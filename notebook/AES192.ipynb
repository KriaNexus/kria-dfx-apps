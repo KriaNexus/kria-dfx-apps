{
 "cells": [
  {
   "cell_type": "markdown",
   "id": "f13a9d1b-25b3-446b-b23a-08ba72ac10c0",
   "metadata": {
    "tags": []
   },
   "source": [
    "# File Encryption and Decryption using AES192"
   ]
  },
  {
   "cell_type": "code",
   "execution_count": null,
   "id": "8f9977d7-1b40-4d81-af77-9352bcca1432",
   "metadata": {},
   "outputs": [],
   "source": [
    "import numpy as np\n",
    "from matplotlib import image\n",
    "from matplotlib import pyplot\n",
    "import matplotlib.pyplot as plt\n",
    "np.set_printoptions(formatter={'int':hex})\n",
    "import IPython\n",
    "from siha import *\n",
    "import pad\n",
    "from IPython.display import Image\n",
    "filename = 'images/andromeda.jpg'\n",
    "efilename = 'images/andromeda192_enc.jpg'\n",
    "dfilename = 'images/andromeda192_dec.jpg'\n",
    "\n",
    "# AES Key Configuration Data\n",
    "encKeybuff = np.array([\n",
    "    0x03020100, 0x07060504, 0x0b0a0908, 0x0f0e0d0c,\n",
    "\t0x13121110, 0x17161514, 0x00000001, 0x00000000], dtype=np.uint32)\n",
    "\n",
    "decKeybuff = np.array([\n",
    "    0x03020100, 0x07060504, 0x0b0a0908, 0x0f0e0d0c,\n",
    "\t0x13121110, 0x17161514, 0x00000000, 0x00000000], dtype=np.uint32)\n",
    "\n",
    "img = image.imread(filename)\n",
    "img =np.array(img) \n",
    "x_axis = img.shape[0]\n",
    "y_axis = img.shape[1];"
   ]
  },
  {
   "cell_type": "code",
   "execution_count": null,
   "id": "2625216f-8081-4d1b-a0ea-ed6f19ae927b",
   "metadata": {},
   "outputs": [],
   "source": [
    "Image(filename=filename)"
   ]
  },
  {
   "cell_type": "markdown",
   "id": "f2bda5e8-34c1-406c-82d8-edb06f7593ad",
   "metadata": {
    "tags": []
   },
   "source": [
    "## AES192 acceleration Encryption"
   ]
  },
  {
   "cell_type": "code",
   "execution_count": null,
   "id": "5e02cfca-0e97-48c9-a31d-40696d6a224d",
   "metadata": {},
   "outputs": [],
   "source": [
    "slot_AES192 = 0 # change slot number here if required\n",
    "\n",
    "BUFFSIZE = 0x1000000\n",
    "databuffOrg = np.fromfile(filename, dtype=np.uint8)[:BUFFSIZE]\n",
    "databuff, padcount = pad.addpad(databuffOrg)\n",
    "databuff = np.frombuffer(databuff.tobytes(), dtype=np.uint32)\n",
    "size = databuff.shape[0]\n",
    "\n",
    "tid_config = 1\n",
    "tid_run = 0\n",
    "offset_key = 0\n",
    "offset_input = 64\n",
    "offset_result = 64\n",
    "size_config = len(encKeybuff)\n",
    "\n",
    "accel = AcapdAccel(\"AES192\", slot_AES192)\n",
    "accel.loadData(encKeybuff, offset_key)\n",
    "accel.loadData(databuff, offset_input)\n",
    "accel.startAccel()\n",
    "accel.config(offset_key, size_config, tid_config)\n",
    "accel.run(offset_input, size, tid_run, offset_result)\n",
    "outbuff = accel.retrieve(offset_result, size)\n",
    "accel.close()\n",
    "outbuff.tofile(efilename)\n",
    "ratio = np.sqrt(size/(x_axis*y_axis*3))\n",
    "x_axis, y_axis = int(x_axis*ratio), int(y_axis*ratio)\n",
    "img = np.frombuffer(outbuff.tobytes(), dtype=np.uint8)[-x_axis* y_axis* 3:].reshape((x_axis, y_axis, 3))\n",
    "pyplot.imshow(img)\n",
    "pyplot.show();"
   ]
  },
  {
   "cell_type": "markdown",
   "id": "d712cc14-9be1-47c5-88a3-0d7a22d237f4",
   "metadata": {
    "tags": []
   },
   "source": [
    "## AES192 acceleration Decryption"
   ]
  },
  {
   "cell_type": "code",
   "execution_count": null,
   "id": "1a4c4efd-87f5-48b9-a006-f25d837c7739",
   "metadata": {},
   "outputs": [],
   "source": [
    "slot_AES192 = 0 # change slot number here if required\n",
    "\n",
    "BUFFSIZE = 0x1000000\n",
    "databuff = np.fromfile(efilename, dtype=np.uint32)\n",
    "accel = AcapdAccel(\"AES192\", slot_AES192)\n",
    "accel.loadData(decKeybuff, offset_key)\n",
    "accel.loadData(databuff, offset_input)\n",
    "accel.startAccel()\n",
    "accel.config(offset_key, size_config, tid_config)\n",
    "accel.run(offset_input, size ,tid_run, offset_result)\n",
    "outbuff = accel.retrieve(offset_result, size)\n",
    "accel.close()\n",
    "outbuff = np.frombuffer(outbuff.tobytes(), dtype=np.uint8)[:-padcount]\n",
    "outbuff.tofile(dfilename)\n",
    "img = image.imread(dfilename)\n",
    "pyplot.imshow(img)\n",
    "pyplot.show();"
   ]
  },
  {
   "cell_type": "code",
   "execution_count": null,
   "id": "c258e9f3-5bf4-4181-843c-92340021b919",
   "metadata": {},
   "outputs": [],
   "source": [
    "Image(filename=dfilename)"
   ]
  },
  {
   "cell_type": "code",
   "execution_count": null,
   "id": "17630cad-3c3b-4125-a943-a1dc01ae86a9",
   "metadata": {},
   "outputs": [],
   "source": []
  }
 ],
 "metadata": {
  "kernelspec": {
   "display_name": "Python 3 (ipykernel)",
   "language": "python",
   "name": "python3"
  },
  "language_info": {
   "codemirror_mode": {
    "name": "ipython",
    "version": 3
   },
   "file_extension": ".py",
   "mimetype": "text/x-python",
   "name": "python",
   "nbconvert_exporter": "python",
   "pygments_lexer": "ipython3",
   "version": "3.10.6"
  }
 },
 "nbformat": 4,
 "nbformat_minor": 5
}
