{
 "cells": [
  {
   "cell_type": "markdown",
   "id": "6db274f0-840a-41e6-bddc-412dbf46bc87",
   "metadata": {},
   "source": [
    "# AES-FFT "
   ]
  },
  {
   "cell_type": "code",
   "execution_count": null,
   "id": "9201c023-286e-4e85-9c13-85d0f014f46d",
   "metadata": {},
   "outputs": [],
   "source": [
    "import numpy as np\n",
    "import matplotlib.pyplot as plt\n",
    "np.set_printoptions(formatter={'int':hex})\n",
    "from siha import *\n",
    "\n",
    "inputFileName = 'data/inputSignal.bin'\n",
    "\n",
    "# FFT Configuration Data\n",
    "fft_config = np.array([0x00005F0F, 0x00005F0F, 0x00005F0F, 0x00005F0F], dtype=np.uint32)\n",
    "\n",
    "# AES Key Configuration Data\n",
    "encKeybuff = np.array([\n",
    "    0x0c0d0e0f, 0x08090a0b, 0x04050607, 0x00010203,\n",
    "    0x00000001, 0x00000000, 0x00000000, 0x00000000], dtype=np.uint32)\n",
    "decKeybuff = np.array([\n",
    "    0x0c0d0e0f, 0x08090a0b, 0x04050607, 0x00010203,\n",
    "    0x00000000, 0x00000000, 0x00000000, 0x00000000], dtype=np.uint32);"
   ]
  },
  {
   "cell_type": "markdown",
   "id": "3d57d37f-5005-421d-a072-ca58c4c94914",
   "metadata": {},
   "source": [
    "## Encrypted Signal"
   ]
  },
  {
   "cell_type": "code",
   "execution_count": null,
   "id": "2f6c06d7-8c95-4720-b76d-0e1c53e5d8b9",
   "metadata": {},
   "outputs": [],
   "source": [
    "BUFFSIZE = 0x400000\n",
    "inbuff = np.fromfile(inputFileName, dtype=np.uint32)[:BUFFSIZE]\n",
    "size = inbuff.shape[0]\n",
    "inbuff1 = inbuff.astype(np.int16)\n",
    "\n",
    "# Plot\n",
    "plt.plot(inbuff1[1000:1500])\n",
    "plt.xlabel('Time')\n",
    "plt.ylabel('Amplitude');"
   ]
  },
  {
   "cell_type": "markdown",
   "id": "bdbe3e32-f104-46f4-a5fe-0bd7d7120466",
   "metadata": {},
   "source": [
    "## Running AES128 accelerator to decrypt input"
   ]
  },
  {
   "cell_type": "code",
   "execution_count": null,
   "id": "2c90e5fe-239a-483e-85e9-fbda085673e0",
   "metadata": {},
   "outputs": [],
   "source": [
    "offset_key = 0\n",
    "offset_input = 64\n",
    "offset_result = 64\n",
    "size_config = len(decKeybuff)\n",
    "tid_conf = 1\n",
    "tid_run = 0\n",
    "\n",
    "AESaccel = AcapdAccel(\"AES\", 0)\n",
    "AESaccel.loadData(decKeybuff, offset_key)\n",
    "AESaccel.loadData(inbuff, offset_input)\n",
    "AESaccel.startAccel()\n",
    "AESaccel.config(offset_key, size_config, tid_conf)\n",
    "AESaccel.run(offset_input, size, tid_run, offset_result)\n",
    "outbuff = AESaccel.retrieve(offset_result, size)\n",
    "origSignal = np.frombuffer(outbuff.tobytes(), dtype=np.uint32)\n",
    "AESaccel.close();\n",
    "\n",
    "# Plot\n",
    "origSignal0 = origSignal.astype(np.int16)\n",
    "fig = plt.figure(figsize=(10,5))\n",
    "plt.title('Time Series Signal')\n",
    "plt.ylabel('Amplitude')\n",
    "plt.xlabel('Time')\n",
    "plt.plot(origSignal0[1000:1500]);"
   ]
  },
  {
   "cell_type": "markdown",
   "id": "cb60dae0-b5fd-4add-b25a-ec0ef88a5c69",
   "metadata": {},
   "source": [
    "## Running FFT accelerator on Decrypted Signal"
   ]
  },
  {
   "cell_type": "code",
   "execution_count": null,
   "id": "6086cadf-e34a-489f-8d36-98bd93f495b8",
   "metadata": {},
   "outputs": [],
   "source": [
    "offset_config = 0\n",
    "size_config = 1\n",
    "offset_input = 1024\n",
    "offset_result = 1024\n",
    "tid_run = 0\n",
    "\n",
    "FFTaccel = AcapdAccel(\"FFT\", 1)\n",
    "FFTaccel.loadData(fft_config, offset_config)\n",
    "FFTaccel.loadData(origSignal, offset_input)\n",
    "FFTaccel.config_fft(offset_config, size_config)\n",
    "FFTaccel.run(offset_input, size, tid_run, offset_result)\n",
    "FFTofOrigSignal = FFTaccel.retrieve(offset_result, size)\n",
    "FFTaccel.close();\n",
    "\n",
    "# Plot\n",
    "N = 1024*4\n",
    "x = np.linspace(0, 10**9/2, int(N/2))\n",
    "f = np.frombuffer(FFTofOrigSignal.tobytes(), dtype=np.int16)\n",
    "origSignal0FFT = np.sqrt(np.square(f[0::2].astype(np.float64)) + np.square(f[1::2].astype(np.float64)))\n",
    "i = 0\n",
    "\n",
    "fig = plt.figure(figsize=(10,5))\n",
    "plt.title('FFT')\n",
    "plt.ylabel('E')\n",
    "plt.xlabel('Frequency')\n",
    "plt.plot(x, np.abs(origSignal0FFT[i*N:i*N+int(N/2)]));"
   ]
  }
 ],
 "metadata": {
  "kernelspec": {
   "display_name": "Python 3 (ipykernel)",
   "language": "python",
   "name": "python3"
  },
  "language_info": {
   "codemirror_mode": {
    "name": "ipython",
    "version": 3
   },
   "file_extension": ".py",
   "mimetype": "text/x-python",
   "name": "python",
   "nbconvert_exporter": "python",
   "pygments_lexer": "ipython3",
   "version": "3.10.6"
  }
 },
 "nbformat": 4,
 "nbformat_minor": 5
}
