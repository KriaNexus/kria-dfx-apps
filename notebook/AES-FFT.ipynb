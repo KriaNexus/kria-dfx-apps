{
 "cells": [
  {
   "cell_type": "markdown",
   "id": "6db274f0-840a-41e6-bddc-412dbf46bc87",
   "metadata": {
    "tags": []
   },
   "source": [
    "# AES-FFT "
   ]
  },
  {
   "cell_type": "markdown",
   "id": "cb3fb87d-3b18-4c10-860f-dff88a323bce",
   "metadata": {
    "tags": []
   },
   "source": [
    "## Initialization"
   ]
  },
  {
   "cell_type": "code",
   "execution_count": null,
   "id": "9201c023-286e-4e85-9c13-85d0f014f46d",
   "metadata": {},
   "outputs": [],
   "source": [
    "import numpy as np\n",
    "import matplotlib.pyplot as plt\n",
    "np.set_printoptions(formatter={'int':hex})\n",
    "from siha import *\n",
    "\n",
    "inputFileName = 'data/inputSignal.bin'\n",
    "\n",
    "# FFT Configuration Data\n",
    "fft_config = np.array([0x00005F0F, 0x00005F0F, 0x00005F0F, 0x00005F0F], dtype=np.uint32)\n",
    "\n",
    "# AES Key Configuration Data\n",
    "encKeybuff = np.array([\n",
    "    0x0c0d0e0f, 0x08090a0b, 0x04050607, 0x00010203,\n",
    "    0x00000001, 0x00000000, 0x00000000, 0x00000000], dtype=np.uint32)\n",
    "decKeybuff = np.array([\n",
    "    0x0c0d0e0f, 0x08090a0b, 0x04050607, 0x00010203,\n",
    "    0x00000000, 0x00000000, 0x00000000, 0x00000000], dtype=np.uint32);\n",
    "\n",
    "BUFFSIZE = 0x400000\n",
    "inbuff = np.fromfile(inputFileName, dtype=np.uint32)[:BUFFSIZE]\n",
    "size = inbuff.shape[0]\n",
    "inbuff1 = inbuff.astype(np.int16);"
   ]
  },
  {
   "cell_type": "markdown",
   "id": "bdbe3e32-f104-46f4-a5fe-0bd7d7120466",
   "metadata": {
    "tags": []
   },
   "source": [
    "## AES128 acceleration"
   ]
  },
  {
   "cell_type": "code",
   "execution_count": null,
   "id": "7f174077-6ef7-4f46-b201-e21d7db055ab",
   "metadata": {},
   "outputs": [],
   "source": [
    "slot_AES128 = 0 # change slot number here if required\n",
    "\n",
    "offset_key = 0\n",
    "offset_input = 64\n",
    "offset_result = 64\n",
    "size_config = len(decKeybuff)\n",
    "tid_conf = 1\n",
    "tid_run = 0\n",
    "\n",
    "AESaccel = AcapdAccel(\"AES128\", slot_AES128)\n",
    "AESaccel.loadData(decKeybuff, offset_key)\n",
    "AESaccel.loadData(inbuff, offset_input)\n",
    "AESaccel.startAccel()\n",
    "AESaccel.config(offset_key, size_config, tid_conf)\n",
    "AESaccel.run(offset_input, size, tid_run, offset_result)\n",
    "outbuff = AESaccel.retrieve(offset_result, size)\n",
    "origSignal = np.frombuffer(outbuff.tobytes(), dtype=np.uint32)\n",
    "AESaccel.close();\n",
    "\n",
    "# Plot\n",
    "origSignal0 = origSignal.astype(np.int16)\n",
    "plt.figure(figsize=(15,5))\n",
    "plt.suptitle(\"AES128 Accelerator\")\n",
    "plt.subplot(121)\n",
    "plt.title('Input to accel Time Series Signal - inputFile')\n",
    "plt.ylabel('Amplitude')\n",
    "plt.xlabel('Time')\n",
    "plt.plot(inbuff1[1000:1500])\n",
    "plt.subplot(122)\n",
    "plt.title('Output from accel Time Series Signal - origSignal')\n",
    "plt.ylabel('Amplitude')\n",
    "plt.xlabel('Time')\n",
    "plt.plot(origSignal0[1000:1500])\n",
    "\n",
    "print(\"The below plot depicts data sent to AES128 accelerator and recieved from it.\");"
   ]
  },
  {
   "cell_type": "markdown",
   "id": "cb60dae0-b5fd-4add-b25a-ec0ef88a5c69",
   "metadata": {
    "tags": []
   },
   "source": [
    "## FFT acceleration"
   ]
  },
  {
   "cell_type": "code",
   "execution_count": null,
   "id": "53b733f1-8b0d-4d0d-a58b-7f1a0b069210",
   "metadata": {},
   "outputs": [],
   "source": [
    "slot_FFT = 1 # change slot number here if required\n",
    "\n",
    "offset_config = 0\n",
    "size_config = 1\n",
    "offset_input = 1024\n",
    "offset_result = 1024\n",
    "tid_run = 0\n",
    "\n",
    "FFTaccel = AcapdAccel(\"FFT\", slot_FFT)\n",
    "FFTaccel.loadData(fft_config, offset_config)\n",
    "FFTaccel.loadData(origSignal, offset_input)\n",
    "FFTaccel.config_fft(offset_config, size_config)\n",
    "FFTaccel.run(offset_input, size, tid_run, offset_result)\n",
    "FFTofOrigSignal = FFTaccel.retrieve(offset_result, size)\n",
    "FFTaccel.close();\n",
    "\n",
    "# Plot\n",
    "N = 1024*4\n",
    "x = np.linspace(0, 10**9/2, int(N/2))\n",
    "f = np.frombuffer(FFTofOrigSignal.tobytes(), dtype=np.int16)\n",
    "origSignal0FFT = np.sqrt(np.square(f[0::2].astype(np.float64)) + np.square(f[1::2].astype(np.float64)))\n",
    "i = 0\n",
    "\n",
    "plt.figure(figsize=(15,5))\n",
    "plt.suptitle(\"FFT Accelerator\")\n",
    "plt.subplot(121)\n",
    "plt.title('Input to accel Time Series Signal - origSignal')\n",
    "plt.ylabel('Amplitude')\n",
    "plt.xlabel('Time')\n",
    "plt.plot(origSignal0[1000:1500])\n",
    "plt.subplot(122)\n",
    "plt.title('Output from accel - FFTofOrigSignal')\n",
    "plt.ylabel('E')\n",
    "plt.xlabel('Frequency')\n",
    "plt.plot(x, np.abs(origSignal0FFT[i*N:i*N+int(N/2)]))\n",
    "\n",
    "\n",
    "print(\"The below plot depicts data sent to FFT accelerator and recieved from it.\");"
   ]
  },
  {
   "cell_type": "code",
   "execution_count": null,
   "id": "3b51539b-90ef-4555-b2c0-4a1ed656fad7",
   "metadata": {},
   "outputs": [],
   "source": []
  }
 ],
 "metadata": {
  "kernelspec": {
   "display_name": "Python 3 (ipykernel)",
   "language": "python",
   "name": "python3"
  },
  "language_info": {
   "codemirror_mode": {
    "name": "ipython",
    "version": 3
   },
   "file_extension": ".py",
   "mimetype": "text/x-python",
   "name": "python",
   "nbconvert_exporter": "python",
   "pygments_lexer": "ipython3",
   "version": "3.10.6"
  }
 },
 "nbformat": 4,
 "nbformat_minor": 5
}
