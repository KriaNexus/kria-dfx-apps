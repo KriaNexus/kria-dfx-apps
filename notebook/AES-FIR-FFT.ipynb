{
 "cells": [
  {
   "cell_type": "markdown",
   "id": "aa3488cb-0dcc-40bb-a4ba-e0443ea9614a",
   "metadata": {
    "tags": []
   },
   "source": [
    "# AES-FIR-FFT "
   ]
  },
  {
   "cell_type": "markdown",
   "id": "e028e91c-a2bb-4f9d-9480-22ba22850401",
   "metadata": {
    "tags": []
   },
   "source": [
    "## Initialization"
   ]
  },
  {
   "cell_type": "code",
   "execution_count": null,
   "id": "a6425757-bc84-4f19-915b-4f266a739488",
   "metadata": {},
   "outputs": [],
   "source": [
    "import numpy as np\n",
    "import matplotlib.pyplot as plt\n",
    "np.set_printoptions(formatter={'int':hex})\n",
    "from siha import *\n",
    "\n",
    "inputFileName = 'data/inputSignal.bin'\n",
    "High_Pass_Filter = 'data/reload_hpf.bin'\n",
    "Band_Pass_Filter = 'data/reload_bpf.bin'\n",
    "Low_Pass_Filter = 'data/reload_lpf.bin'\n",
    "\n",
    "# FFT Configuration Data\n",
    "fft_config = np.array([0x00005F0F, 0x00005F0F, 0x00005F0F, 0x00005F0F], dtype=np.uint32)\n",
    "\n",
    "# FIR Filter Configuration Data\n",
    "fir_config = np.array([0x0000000c,0x0000000c,0x0000000c,0x0000000c], dtype=np.uint32)\n",
    "\n",
    "# AES Key Configuration Data\n",
    "encKeybuff = np.array([\n",
    "    0x0c0d0e0f, 0x08090a0b, 0x04050607, 0x00010203,\n",
    "    0x00000001, 0x00000000, 0x00000000, 0x00000000], dtype=np.uint32)\n",
    "decKeybuff = np.array([\n",
    "    0x0c0d0e0f, 0x08090a0b, 0x04050607, 0x00010203,\n",
    "    0x00000000, 0x00000000, 0x00000000, 0x00000000], dtype=np.uint32);\n",
    "\n",
    "BUFFSIZE = 0x4000000\n",
    "inbuff = np.fromfile(inputFileName, dtype=np.uint32)[:BUFFSIZE]\n",
    "size = inbuff.shape[0]\n",
    "inbuff1 = inbuff.astype(np.int16);"
   ]
  },
  {
   "cell_type": "markdown",
   "id": "bf8244af-847e-4c17-9083-07b4938fca0f",
   "metadata": {
    "tags": []
   },
   "source": [
    "## AES128 acceleration"
   ]
  },
  {
   "cell_type": "code",
   "execution_count": null,
   "id": "e575125f-7c69-44f7-804b-fbe521fde447",
   "metadata": {},
   "outputs": [],
   "source": [
    "slot_AES128 = 0 # change slot number here if required\n",
    "\n",
    "offset_key = 0\n",
    "offset_input = 64\n",
    "offset_result = 64\n",
    "size_config = len(decKeybuff)\n",
    "tid_conf = 1\n",
    "tid_run = 0\n",
    "\n",
    "AESaccel = AcapdAccel(\"AES128\", 0)\n",
    "AESaccel.loadData(decKeybuff, offset_key)\n",
    "AESaccel.loadData(inbuff, offset_input)\n",
    "AESaccel.startAccel()\n",
    "AESaccel.config(offset_key, size_config, tid_conf)\n",
    "AESaccel.run(offset_input, size, tid_run, offset_result)\n",
    "outbuff = AESaccel.retrieve(offset_result, size)\n",
    "origSignal = np.frombuffer(outbuff.tobytes(), dtype=np.uint32)\n",
    "AESaccel.close();\n",
    "\n",
    "# Plot\n",
    "origSignal0 = origSignal.astype(np.int16)\n",
    "plt.figure(figsize=(15,5))\n",
    "plt.suptitle(\"AES128 Accelerator\")\n",
    "plt.subplot(121)\n",
    "plt.title('Input to accel Time Series Signal - inputFile')\n",
    "plt.ylabel('Amplitude')\n",
    "plt.xlabel('Time')\n",
    "plt.plot(inbuff1[1000:1500])\n",
    "plt.subplot(122)\n",
    "plt.title('Output from accel Time Series Signal - origSignal')\n",
    "plt.ylabel('Amplitude')\n",
    "plt.xlabel('Time')\n",
    "plt.plot(origSignal0[1000:1500])\n",
    "\n",
    "print(\"The below plot depicts data sent to AES128 accelerator and recieved from it.\");"
   ]
  },
  {
   "cell_type": "markdown",
   "id": "012d1988-188d-4998-9bc0-4b6415031ad4",
   "metadata": {
    "tags": []
   },
   "source": [
    "## FFT acceleration "
   ]
  },
  {
   "cell_type": "code",
   "execution_count": null,
   "id": "00a09033-79ea-4365-af3e-6772e36e2ddc",
   "metadata": {},
   "outputs": [],
   "source": [
    "slot_FFT = 1 # change slot number here if required\n",
    "\n",
    "offset_config = 0\n",
    "size_config = 1\n",
    "offset_input = 1024\n",
    "offset_result = 1024\n",
    "tid_run = 0\n",
    "\n",
    "FFTaccel = AcapdAccel(\"FFT\", slot_FFT)\n",
    "FFTaccel.loadData(fft_config, offset_config)\n",
    "FFTaccel.loadData(origSignal, offset_input)\n",
    "FFTaccel.config_fft(offset_config, size_config)\n",
    "FFTaccel.run(offset_input, size, tid_run, offset_result)\n",
    "FFTofOrigSignal = FFTaccel.retrieve(offset_result, size)\n",
    "FFTaccel.close();\n",
    "\n",
    "# Plot\n",
    "N = 1024*4\n",
    "x = np.linspace(0, 10**9/2, int(N/2))\n",
    "f = np.frombuffer(FFTofOrigSignal.tobytes(), dtype=np.int16)\n",
    "origSignal0FFT = np.sqrt(np.square(f[0::2].astype(np.float64)) + np.square(f[1::2].astype(np.float64)))\n",
    "i = 0\n",
    "\n",
    "plt.figure(figsize=(15,5))\n",
    "plt.suptitle(\"FFT Accelerator\")\n",
    "plt.subplot(121)\n",
    "plt.title('Input to accel Time Series Signal - origSignal')\n",
    "plt.ylabel('Amplitude')\n",
    "plt.xlabel('Time')\n",
    "plt.plot(origSignal0[1000:1500])\n",
    "plt.subplot(122)\n",
    "plt.title('Output from accel - FFTofOrigSignal')\n",
    "plt.ylabel('E')\n",
    "plt.xlabel('Frequency')\n",
    "plt.plot(x, np.abs(origSignal0FFT[i*N:i*N+int(N/2)]))\n",
    "\n",
    "\n",
    "print(\"The below plot depicts data sent to FFT accelerator and recieved from it.\");"
   ]
  },
  {
   "cell_type": "markdown",
   "id": "0d36cab6-5be4-4631-bd23-f9ac9d304439",
   "metadata": {
    "tags": []
   },
   "source": [
    "## FIR acceleration"
   ]
  },
  {
   "cell_type": "code",
   "execution_count": null,
   "id": "c24c1d75-a65c-4132-b8af-e87163db153e",
   "metadata": {},
   "outputs": [],
   "source": [
    "slot_FIR = 0 # change slot number here if required\n",
    "\n",
    "Applied_Filter = Band_Pass_Filter # change applied filter if required. Options = (Low_Pass_Filter, Band_Pass_Filter, High_Pass_Filter)\n",
    "\n",
    "fir_reload = np.fromfile(Applied_Filter, dtype=np.uint32)\n",
    "\n",
    "offset_reload = 0\n",
    "offset_config = 128\n",
    "offset_input = 256\n",
    "offset_output = 256\n",
    "tid_reload = 1\n",
    "tid_config = 2\n",
    "tid_run = 0\n",
    "\n",
    "FIRaccel = AcapdAccel(\"FIR\", slot_FIR)\n",
    "FIRaccel.loadData(fir_reload, offset_reload)\n",
    "FIRaccel.loadData(fir_config, offset_config)\n",
    "FIRaccel.loadData(origSignal, offset_input)\n",
    "FIRaccel.config(offset_reload, len(fir_reload), tid_reload)\n",
    "FIRaccel.config(offset_config, len(fir_config), tid_config)\n",
    "FIRaccel.run(offset_input, size, tid_run, offset_output)\n",
    "FilteredSignal = FIRaccel.retrieve(offset_output, size)\n",
    "FIRaccel.close();\n",
    "\n",
    "# Plot\n",
    "FilteredSignal0 = FilteredSignal.astype(np.int16)\n",
    "plt.figure(figsize=(15,5))\n",
    "plt.suptitle(\"FIR Accelerator\")\n",
    "plt.subplot(121)\n",
    "plt.title('Input to accel - origSignal')\n",
    "plt.ylabel('E')\n",
    "plt.xlabel('Frequency')\n",
    "plt.plot(origSignal0[1000:1500])\n",
    "plt.subplot(122)\n",
    "plt.title('Output from accel Time Series Signal - FilteredSignal')\n",
    "plt.ylabel('Amplitude')\n",
    "plt.xlabel('Time')\n",
    "plt.plot(FilteredSignal0[1000:1500])\n",
    "\n",
    "print(\"The below plot depicts data sent to FIR accelerator and recieved from it.\");"
   ]
  },
  {
   "cell_type": "markdown",
   "id": "d091e591-17e4-423a-868e-45dcfa07331d",
   "metadata": {
    "tags": []
   },
   "source": [
    "## FFT acceleration"
   ]
  },
  {
   "cell_type": "code",
   "execution_count": null,
   "id": "89750a68-78d4-4140-a783-ff6eb3045902",
   "metadata": {},
   "outputs": [],
   "source": [
    "slot_FFT = 1 # change slot number here if required\n",
    "\n",
    "offset_config = 0\n",
    "size_config = 1\n",
    "offset_input = 1024\n",
    "offset_result = 1024\n",
    "tid_run = 0\n",
    "\n",
    "FFTaccel = AcapdAccel(\"FFT\", slot_FFT)\n",
    "FFTaccel.loadData(fft_config, offset_config)\n",
    "FFTaccel.loadData(FilteredSignal, offset_input)\n",
    "FFTaccel.config_fft(offset_config, size_config)\n",
    "FFTaccel.run(offset_input, size, tid_run, offset_result)\n",
    "FFTofFilteredSignal = FFTaccel.retrieve(offset_result, size)\n",
    "FFTaccel.close();\n",
    "\n",
    "# Plot\n",
    "N = 1024*4\n",
    "x = np.linspace(0, 10**9/2, int(N/2))\n",
    "f = np.frombuffer(FFTofFilteredSignal.tobytes(), dtype=np.int16)\n",
    "FilteredSignalFFT = np.square(f[0::2].astype(np.float64)) + np.square(f[1::2].astype(np.float64))\n",
    "i = 0\n",
    "\n",
    "plt.figure(figsize=(15,5))\n",
    "plt.suptitle(\"FFT Accelerator\")\n",
    "plt.subplot(121)\n",
    "plt.title('Input to accel Time Series Signal - FilteredSignal')\n",
    "plt.ylabel('Amplitude')\n",
    "plt.xlabel('Time')\n",
    "plt.plot(FilteredSignal0[1000:1500])\n",
    "plt.subplot(122)\n",
    "plt.title('Output from accel - FFTofFilteredSignal')\n",
    "plt.ylabel('E')\n",
    "plt.xlabel('Frequency')\n",
    "plt.plot(x, np.abs(FilteredSignalFFT[i*N:i*N+int(N/2)]))\n",
    "\n",
    "\n",
    "print(\"The below plot depicts data sent to FFT accelerator and recieved from it.\");"
   ]
  },
  {
   "cell_type": "code",
   "execution_count": null,
   "id": "bb3e2291-d106-487b-a488-44f25295c6b7",
   "metadata": {},
   "outputs": [],
   "source": []
  },
  {
   "cell_type": "code",
   "execution_count": null,
   "id": "108809e6-208e-4051-9b49-a8325410b697",
   "metadata": {},
   "outputs": [],
   "source": []
  }
 ],
 "metadata": {
  "kernelspec": {
   "display_name": "Python 3 (ipykernel)",
   "language": "python",
   "name": "python3"
  },
  "language_info": {
   "codemirror_mode": {
    "name": "ipython",
    "version": 3
   },
   "file_extension": ".py",
   "mimetype": "text/x-python",
   "name": "python",
   "nbconvert_exporter": "python",
   "pygments_lexer": "ipython3",
   "version": "3.10.6"
  }
 },
 "nbformat": 4,
 "nbformat_minor": 5
}
