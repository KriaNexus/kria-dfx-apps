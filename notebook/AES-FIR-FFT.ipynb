{
 "cells": [
  {
   "cell_type": "markdown",
   "id": "aa3488cb-0dcc-40bb-a4ba-e0443ea9614a",
   "metadata": {
    "tags": []
   },
   "source": [
    "# AES-FIR-FFT "
   ]
  },
  {
   "cell_type": "markdown",
   "id": "e028e91c-a2bb-4f9d-9480-22ba22850401",
   "metadata": {
    "tags": []
   },
   "source": [
    "## Initialization"
   ]
  },
  {
   "cell_type": "code",
   "execution_count": null,
   "id": "a6425757-bc84-4f19-915b-4f266a739488",
   "metadata": {},
   "outputs": [],
   "source": [
    "import numpy as np\n",
    "import matplotlib.pyplot as plt\n",
    "np.set_printoptions(formatter={'int':hex})\n",
    "from siha import *\n",
    "\n",
    "inputFileName = 'data/inputSignal.bin'\n",
    "High_Pass_Filter = 'data/reload_hpf.bin'\n",
    "Band_Pass_Filter = 'data/reload_bpf.bin'\n",
    "Low_Pass_Filter = 'data/reload_lpf.bin'\n",
    "output = 'data/origSignal.bin'\n",
    "\n",
    "# FFT Configuration Data\n",
    "fft_config = np.array([0x00005F0F, 0x00005F0F, 0x00005F0F, 0x00005F0F], dtype=np.uint32)\n",
    "\n",
    "# FIR Filter Configuration Data\n",
    "fir_config = np.array([0x0000000c,0x0000000c,0x0000000c,0x0000000c], dtype=np.uint32)\n",
    "\n",
    "# AES Key Configuration Data\n",
    "encKeybuff = np.array([\n",
    "    0x0c0d0e0f, 0x08090a0b, 0x04050607, 0x00010203,\n",
    "    0x00000001, 0x00000000, 0x00000000, 0x00000000], dtype=np.uint32)\n",
    "decKeybuff = np.array([\n",
    "    0x0c0d0e0f, 0x08090a0b, 0x04050607, 0x00010203,\n",
    "    0x00000000, 0x00000000, 0x00000000, 0x00000000], dtype=np.uint32);"
   ]
  },
  {
   "cell_type": "markdown",
   "id": "52824968-e8aa-4076-ac7d-3bb816ce735f",
   "metadata": {
    "tags": []
   },
   "source": [
    "## Encrypted Signal"
   ]
  },
  {
   "cell_type": "code",
   "execution_count": null,
   "id": "8ef125b4-848b-43a5-a6b9-e38e5a6a82d4",
   "metadata": {},
   "outputs": [],
   "source": [
    "BUFFSIZE = 0x4000000\n",
    "inbuff = np.fromfile(inputFileName, dtype=np.uint32)[:BUFFSIZE]\n",
    "size = inbuff.shape[0]\n",
    "inbuff1 = inbuff.astype(np.int16)\n",
    "\n",
    "# Plot\n",
    "plt.plot(inbuff1[1000:1500])\n",
    "plt.xlabel('Time')\n",
    "plt.ylabel('Amplitude');"
   ]
  },
  {
   "cell_type": "markdown",
   "id": "bf8244af-847e-4c17-9083-07b4938fca0f",
   "metadata": {
    "tags": []
   },
   "source": [
    "## Running AES128 accelerator to decrypt input"
   ]
  },
  {
   "cell_type": "code",
   "execution_count": null,
   "id": "0cc04adf-e01b-428b-8bc3-876efd76a00f",
   "metadata": {},
   "outputs": [],
   "source": [
    "slot_AES128 = 0 # change slot number here if required"
   ]
  },
  {
   "cell_type": "code",
   "execution_count": null,
   "id": "38e05a97-6dd8-4f61-8f30-68eab5d80a19",
   "metadata": {},
   "outputs": [],
   "source": [
    "offset_key = 0\n",
    "offset_input = 64\n",
    "offset_result = 64\n",
    "size_config = len(decKeybuff)\n",
    "tid_conf = 1\n",
    "tid_run = 0\n",
    "\n",
    "AESaccel = AcapdAccel(\"AES\", 0)\n",
    "AESaccel.loadData(decKeybuff, offset_key)\n",
    "AESaccel.loadData(inbuff, offset_input)\n",
    "AESaccel.startAccel()\n",
    "AESaccel.config(offset_key, size_config, tid_conf)\n",
    "AESaccel.run(offset_input, size, tid_run, offset_result)\n",
    "outbuff = AESaccel.retrieve(offset_result, size)\n",
    "origSignal = np.frombuffer(outbuff.tobytes(), dtype=np.uint32)\n",
    "origSignal.tofile(output)\n",
    "AESaccel.close();\n",
    "\n",
    "# Plot\n",
    "origSignal0 = origSignal.astype(np.int16)\n",
    "fig = plt.figure(figsize=(10,5))\n",
    "plt.title('Time Series Signal')\n",
    "plt.ylabel('Amplitude')\n",
    "plt.xlabel('Time')\n",
    "plt.plot(origSignal0[1000:1500]);"
   ]
  },
  {
   "cell_type": "markdown",
   "id": "012d1988-188d-4998-9bc0-4b6415031ad4",
   "metadata": {},
   "source": [
    "## Running FFT accelerator on Decrypted Signal"
   ]
  },
  {
   "cell_type": "code",
   "execution_count": null,
   "id": "0ce4e247-a138-47f5-94f3-0b5f75eeb237",
   "metadata": {},
   "outputs": [],
   "source": [
    "slot_FFT = 1 # change slot number here if required"
   ]
  },
  {
   "cell_type": "code",
   "execution_count": null,
   "id": "aeae0d0a-6adf-4944-9ca3-70aa9c8c24a7",
   "metadata": {},
   "outputs": [],
   "source": [
    "offset_config = 0\n",
    "size_config = 1\n",
    "offset_input = 1024\n",
    "offset_result = 1024\n",
    "tid_run = 0\n",
    "\n",
    "FFTaccel = AcapdAccel(\"FFT\", slot_FFT)\n",
    "FFTaccel.loadData(fft_config, offset_config)\n",
    "FFTaccel.loadData(origSignal, offset_input)\n",
    "FFTaccel.config_fft(offset_config, size_config)\n",
    "FFTaccel.run(offset_input, size, tid_run, offset_result)\n",
    "FFTofOrigSignal = FFTaccel.retrieve(offset_result, size)\n",
    "FFTaccel.close();\n",
    "\n",
    "# Plot\n",
    "N = 1024*4\n",
    "x = np.linspace(0, 10**9/2, int(N/2))\n",
    "f = np.frombuffer(FFTofOrigSignal.tobytes(), dtype=np.int16)\n",
    "origSignal0FFT = np.sqrt(np.square(f[0::2].astype(np.float64)) + np.square(f[1::2].astype(np.float64)))\n",
    "i = 0\n",
    "\n",
    "fig = plt.figure(figsize=(10,5))\n",
    "plt.title('FFT')\n",
    "plt.ylabel('E')\n",
    "plt.xlabel('Frequency')\n",
    "plt.plot(x, np.abs(origSignal0FFT[i*N:i*N+int(N/2)]));"
   ]
  },
  {
   "cell_type": "markdown",
   "id": "0d36cab6-5be4-4631-bd23-f9ac9d304439",
   "metadata": {},
   "source": [
    "## Running FIR accelerator on Decrypted signal"
   ]
  },
  {
   "cell_type": "code",
   "execution_count": null,
   "id": "7cbdd30a-5aa1-4e6c-bd37-89feb3df336c",
   "metadata": {},
   "outputs": [],
   "source": [
    "slot_FIR = 0 # change slot number here if required"
   ]
  },
  {
   "cell_type": "code",
   "execution_count": null,
   "id": "24330aea-a67a-4aef-935d-39c38be2c0ae",
   "metadata": {},
   "outputs": [],
   "source": [
    "Applied_Filter = 'data/reload_hpf.bin'\n",
    "fir_reload = np.fromfile(Applied_Filter, dtype=np.uint32)\n",
    "\n",
    "offset_reload = 0\n",
    "offset_config = 128\n",
    "offset_input = 256\n",
    "offset_output = 256\n",
    "tid_reload = 1\n",
    "tid_config = 2\n",
    "tid_run = 0\n",
    "\n",
    "FIRaccel = AcapdAccel(\"FIR\", slot_FIR)\n",
    "FIRaccel.loadData(fir_reload, offset_reload)\n",
    "FIRaccel.loadData(fir_config, offset_config)\n",
    "FIRaccel.loadData(origSignal, offset_input)\n",
    "FIRaccel.config(offset_reload, len(fir_reload), tid_reload)\n",
    "FIRaccel.config(offset_config, len(fir_config), tid_config)\n",
    "FIRaccel.run(offset_input, size, tid_run, offset_output)\n",
    "FilteredSignal = FIRaccel.retrieve(offset_output, size)\n",
    "FIRaccel.close();\n",
    "\n",
    "# Plot\n",
    "FilteredSignal0 = FilteredSignal.astype(np.int16)\n",
    "fig = plt.figure(figsize=(10,5))\n",
    "plt.title('Time Series Signal')\n",
    "plt.ylabel('Amplitude')\n",
    "plt.xlabel('Time')\n",
    "plt.plot(FilteredSignal0[1000:1500]);"
   ]
  },
  {
   "cell_type": "markdown",
   "id": "d091e591-17e4-423a-868e-45dcfa07331d",
   "metadata": {},
   "source": [
    "## Running FFT accelerator on Filtered Signal"
   ]
  },
  {
   "cell_type": "code",
   "execution_count": null,
   "id": "31db418b-6a82-400e-b8d3-74803279fe19",
   "metadata": {},
   "outputs": [],
   "source": [
    "slot_FFT = 1 # change slot number here if required"
   ]
  },
  {
   "cell_type": "code",
   "execution_count": null,
   "id": "7727e9ef-e816-4a1a-b157-9f538c091c04",
   "metadata": {},
   "outputs": [],
   "source": [
    "offset_config = 0\n",
    "size_config = 1\n",
    "offset_input = 1024\n",
    "offset_result = 1024\n",
    "tid_run = 0\n",
    "\n",
    "FFTaccel = AcapdAccel(\"FFT\", slot_FFT)\n",
    "FFTaccel.loadData(fft_config, offset_config)\n",
    "FFTaccel.loadData(FilteredSignal, offset_input)\n",
    "FFTaccel.config_fft(offset_config, size_config)\n",
    "FFTaccel.run(offset_input, size, tid_run, offset_result)\n",
    "FFTofFilteredSignal = FFTaccel.retrieve(offset_result, size)\n",
    "FFTaccel.close();\n",
    "\n",
    "# Plot\n",
    "N = 1024*4\n",
    "x = np.linspace(0, 10**9/2, int(N/2))\n",
    "f = np.frombuffer(FFTofFilteredSignal.tobytes(), dtype=np.int16)\n",
    "FilteredSignalFFT = np.square(f[0::2].astype(np.float64)) + np.square(f[1::2].astype(np.float64))\n",
    "i = 0\n",
    "\n",
    "fig = plt.figure(figsize=(10,5))\n",
    "plt.title('FFT')\n",
    "plt.ylabel('E')\n",
    "plt.xlabel('Frequency')\n",
    "plt.plot(x, np.abs(FilteredSignalFFT[i*N:i*N+int(N/2)]));"
   ]
  },
  {
   "cell_type": "code",
   "execution_count": null,
   "id": "bb3e2291-d106-487b-a488-44f25295c6b7",
   "metadata": {},
   "outputs": [],
   "source": []
  }
 ],
 "metadata": {
  "kernelspec": {
   "display_name": "Python 3 (ipykernel)",
   "language": "python",
   "name": "python3"
  },
  "language_info": {
   "codemirror_mode": {
    "name": "ipython",
    "version": 3
   },
   "file_extension": ".py",
   "mimetype": "text/x-python",
   "name": "python",
   "nbconvert_exporter": "python",
   "pygments_lexer": "ipython3",
   "version": "3.10.6"
  }
 },
 "nbformat": 4,
 "nbformat_minor": 5
}
