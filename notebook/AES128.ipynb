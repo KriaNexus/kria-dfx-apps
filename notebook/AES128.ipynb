{
 "cells": [
  {
   "cell_type": "markdown",
   "id": "21d7463d-c548-4ec9-99af-10403a255c50",
   "metadata": {},
   "source": [
    "## AES128 Encryption and Decryption"
   ]
  },
  {
   "cell_type": "code",
   "execution_count": null,
   "id": "633e4e8f-1f63-4dd3-9fc7-8d8d98cb9a3d",
   "metadata": {},
   "outputs": [],
   "source": [
    "import numpy as np\n",
    "from matplotlib import image\n",
    "from matplotlib import pyplot\n",
    "import matplotlib.pyplot as plt\n",
    "np.set_printoptions(formatter={'int':hex})\n",
    "import IPython\n",
    "from siha import *\n",
    "import pad\n",
    "from IPython.display import Image\n",
    "filename = 'images/andromeda.png'\n",
    "efilename = 'images/andromeda128.enc.png'\n",
    "dfilename = 'images/andromeda128.dec.png'"
   ]
  },
  {
   "cell_type": "code",
   "execution_count": null,
   "id": "2625216f-8081-4d1b-a0ea-ed6f19ae927b",
   "metadata": {},
   "outputs": [],
   "source": [
    "Image(filename=filename)"
   ]
  },
  {
   "cell_type": "markdown",
   "id": "816f9694-1095-492c-b216-a2a5b7e4154e",
   "metadata": {},
   "source": [
    "# Encryption"
   ]
  },
  {
   "cell_type": "code",
   "execution_count": null,
   "id": "78d7f363-15c1-4a01-b7d3-475aa5caf59e",
   "metadata": {},
   "outputs": [],
   "source": [
    "BUFFSIZE = 0x1000000\n",
    "databuffOrg = np.fromfile(filename, dtype=np.uint8)[:BUFFSIZE]\n",
    "databuff, padcount = pad.addpad(databuffOrg)\n",
    "databuff = np.frombuffer(databuff.tobytes(), dtype=np.uint32)\n",
    "size = databuff.shape[0]\n",
    "\n",
    "keybuff = np.array([\n",
    "    0x0c0d0e0f, 0x08090a0b, 0x04050607, 0x00010203,\n",
    "    0x00000001, 0x00000000, 0x00000000, 0x00000000], dtype=np.uint32)\n",
    "\n",
    "unkeybuff = np.array([\n",
    "    0x0c0d0e0f, 0x08090a0b, 0x04050607, 0x00010203,\n",
    "    0x00000000, 0x00000000, 0x00000000, 0x00000000], dtype=np.uint32)\n",
    "\n",
    "tid_config = 1\n",
    "tid_run = 0\n",
    "offset_key = 0\n",
    "offset_input = 64\n",
    "offset_result = 64\n",
    "size_config = len(keybuff)\n",
    "\n",
    "accel = AcapdAccel(\"AES128\", 0)\n",
    "accel.loadData(keybuff, offset_key)\n",
    "accel.loadData(databuff, offset_input)\n",
    "accel.startAccel()\n",
    "accel.config(offset_key, size_config, tid_config)\n",
    "accel.run(offset_input, size, tid_run, offset_result)\n",
    "outbuff = accel.retrieve(offset_result, size)\n",
    "accel.close()\n",
    "outbuff.tofile(efilename)\n",
    "img = np.frombuffer(outbuff.tobytes(), dtype=np.uint8)[-614* 1024* 3:].reshape((614, 1024, 3))\n",
    "pyplot.imshow(img)\n",
    "pyplot.show();"
   ]
  },
  {
   "cell_type": "markdown",
   "id": "69d8889a-64d7-46cd-9ed9-f9b7975cac35",
   "metadata": {},
   "source": [
    "# Decryption"
   ]
  },
  {
   "cell_type": "code",
   "execution_count": null,
   "id": "d87f039f-8869-477a-8f90-3e0c52297594",
   "metadata": {},
   "outputs": [],
   "source": [
    "BUFFSIZE = 0x1000000\n",
    "databuff = np.fromfile(efilename, dtype=np.uint32)\n",
    "accel = AcapdAccel(\"AES128\", 0)\n",
    "accel.loadData(unkeybuff, offset_key)\n",
    "accel.loadData(databuff, offset_input)\n",
    "accel.startAccel()\n",
    "accel.config(offset_key, size_config, tid_config)\n",
    "accel.run(offset_input,size, tid_run, offset_result)\n",
    "outbuff = accel.retrieve(offset_result, size)\n",
    "accel.close()\n",
    "outbuff = np.frombuffer(outbuff.tobytes(), dtype=np.uint8)\n",
    "outbuff = outbuff[:-padcount]\n",
    "outbuff.tofile(dfilename)\n",
    "img = image.imread(dfilename)\n",
    "pyplot.imshow(img)\n",
    "pyplot.show();"
   ]
  },
  {
   "cell_type": "code",
   "execution_count": null,
   "id": "c258e9f3-5bf4-4181-843c-92340021b919",
   "metadata": {},
   "outputs": [],
   "source": [
    "Image(filename=dfilename)"
   ]
  },
  {
   "cell_type": "code",
   "execution_count": null,
   "id": "fab6ea9d-8efc-4781-bf75-a45b5ce9ba11",
   "metadata": {},
   "outputs": [],
   "source": []
  }
 ],
 "metadata": {
  "kernelspec": {
   "display_name": "Python 3 (ipykernel)",
   "language": "python",
   "name": "python3"
  },
  "language_info": {
   "codemirror_mode": {
    "name": "ipython",
    "version": 3
   },
   "file_extension": ".py",
   "mimetype": "text/x-python",
   "name": "python",
   "nbconvert_exporter": "python",
   "pygments_lexer": "ipython3",
   "version": "3.10.6"
  }
 },
 "nbformat": 4,
 "nbformat_minor": 5
}
