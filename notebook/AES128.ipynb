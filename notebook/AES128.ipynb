{
 "cells": [
  {
   "cell_type": "markdown",
   "id": "21d7463d-c548-4ec9-99af-10403a255c50",
   "metadata": {},
   "source": [
    "## AES128 Encryption and Decryption"
   ]
  },
  {
   "cell_type": "code",
   "execution_count": null,
   "id": "a90ab3b9-66ef-4ef9-b104-3686c8940a61",
   "metadata": {},
   "outputs": [],
   "source": [
    "import numpy as np\n",
    "from matplotlib import image\n",
    "from matplotlib import pyplot\n",
    "import matplotlib.pyplot as plt\n",
    "np.set_printoptions(formatter={'int':hex})\n",
    "import IPython\n",
    "from siha import *\n",
    "import pad\n",
    "from IPython.display import Image\n",
    "filename = 'images/andromeda.jpg'\n",
    "efilename = 'images/andromeda128_enc.jpg'\n",
    "dfilename = 'images/andromeda128_dec.jpg'\n",
    "\n",
    "# AES Key Configuration Data\n",
    "encKeybuff = np.array([\n",
    "    0x0c0d0e0f, 0x08090a0b, 0x04050607, 0x00010203,\n",
    "    0x00000001, 0x00000000, 0x00000000, 0x00000000], dtype=np.uint32)\n",
    "\n",
    "decKeybuff = np.array([\n",
    "    0x0c0d0e0f, 0x08090a0b, 0x04050607, 0x00010203,\n",
    "    0x00000000, 0x00000000, 0x00000000, 0x00000000], dtype=np.uint32)\n",
    "\n",
    "img = image.imread(filename)\n",
    "img =np.array(img) \n",
    "x_axis = img.shape[0]\n",
    "y_axis = img.shape[1];"
   ]
  },
  {
   "cell_type": "code",
   "execution_count": null,
   "id": "bc9b1bc2-bd32-4838-8935-f4d79cf7b796",
   "metadata": {},
   "outputs": [],
   "source": [
    "Image(filename=filename)"
   ]
  },
  {
   "cell_type": "markdown",
   "id": "816f9694-1095-492c-b216-a2a5b7e4154e",
   "metadata": {},
   "source": [
    "# Encryption"
   ]
  },
  {
   "cell_type": "code",
   "execution_count": null,
   "id": "b3cd3988-b99a-451b-8ba1-7c457a756fba",
   "metadata": {},
   "outputs": [],
   "source": [
    "slot_AES128 = 0 # change slot number here if required"
   ]
  },
  {
   "cell_type": "code",
   "execution_count": null,
   "id": "d74c4d99-6584-4945-aac2-55e489ea62e3",
   "metadata": {},
   "outputs": [],
   "source": [
    "BUFFSIZE = 0x1000000\n",
    "databuffOrg = np.fromfile(filename, dtype=np.uint8)[:BUFFSIZE]\n",
    "databuff, padcount = pad.addpad(databuffOrg)\n",
    "databuff = np.frombuffer(databuff.tobytes(), dtype=np.uint32)\n",
    "size = databuff.shape[0]\n",
    "\n",
    "tid_config = 1\n",
    "tid_run = 0\n",
    "offset_key = 0\n",
    "offset_input = 64\n",
    "offset_result = 64\n",
    "size_config = len(encKeybuff)\n",
    "\n",
    "accel = AcapdAccel(\"AES128\", slot_AES128)\n",
    "accel.loadData(encKeybuff, offset_key)\n",
    "accel.loadData(databuff, offset_input)\n",
    "accel.startAccel()\n",
    "accel.config(offset_key, size_config, tid_config)\n",
    "accel.run(offset_input, size, tid_run, offset_result)\n",
    "outbuff = accel.retrieve(offset_result, size)\n",
    "accel.close()\n",
    "outbuff.tofile(efilename)\n",
    "ratio = np.sqrt(size/(x_axis*y_axis*3))\n",
    "x_axis, y_axis = int(x_axis*ratio), int(y_axis*ratio)\n",
    "img = np.frombuffer(outbuff.tobytes(), dtype=np.uint8)[-x_axis* y_axis* 3:].reshape((x_axis, y_axis, 3))\n",
    "pyplot.imshow(img)\n",
    "pyplot.show();"
   ]
  },
  {
   "cell_type": "markdown",
   "id": "69d8889a-64d7-46cd-9ed9-f9b7975cac35",
   "metadata": {},
   "source": [
    "# Decryption"
   ]
  },
  {
   "cell_type": "code",
   "execution_count": null,
   "id": "52bd642f-bc8b-4c31-8e65-6ee9dc95113b",
   "metadata": {},
   "outputs": [],
   "source": [
    "slot_AES128 = 0 # change slot number here if required"
   ]
  },
  {
   "cell_type": "code",
   "execution_count": null,
   "id": "fadc9c50-c109-4f05-a177-bb8496af16b2",
   "metadata": {},
   "outputs": [],
   "source": [
    "BUFFSIZE = 0x1000000\n",
    "databuff = np.fromfile(efilename, dtype=np.uint32)\n",
    "accel = AcapdAccel(\"AES128\", slot_AES128)\n",
    "accel.loadData(decKeybuff, offset_key)\n",
    "accel.loadData(databuff, offset_input)\n",
    "accel.startAccel()\n",
    "accel.config(offset_key, size_config, tid_config)\n",
    "accel.run(offset_input,size, tid_run, offset_result)\n",
    "outbuff = accel.retrieve(offset_result, size)\n",
    "accel.close()\n",
    "outbuff = np.frombuffer(outbuff.tobytes(), dtype=np.uint8)[:-padcount]\n",
    "outbuff.tofile(dfilename)\n",
    "img = image.imread(dfilename)\n",
    "pyplot.imshow(img)\n",
    "pyplot.show();"
   ]
  },
  {
   "cell_type": "code",
   "execution_count": null,
   "id": "c258e9f3-5bf4-4181-843c-92340021b919",
   "metadata": {},
   "outputs": [],
   "source": [
    "Image(filename=dfilename)"
   ]
  },
  {
   "cell_type": "code",
   "execution_count": null,
   "id": "fab6ea9d-8efc-4781-bf75-a45b5ce9ba11",
   "metadata": {},
   "outputs": [],
   "source": []
  }
 ],
 "metadata": {
  "kernelspec": {
   "display_name": "Python 3 (ipykernel)",
   "language": "python",
   "name": "python3"
  },
  "language_info": {
   "codemirror_mode": {
    "name": "ipython",
    "version": 3
   },
   "file_extension": ".py",
   "mimetype": "text/x-python",
   "name": "python",
   "nbconvert_exporter": "python",
   "pygments_lexer": "ipython3",
   "version": "3.10.6"
  }
 },
 "nbformat": 4,
 "nbformat_minor": 5
}
