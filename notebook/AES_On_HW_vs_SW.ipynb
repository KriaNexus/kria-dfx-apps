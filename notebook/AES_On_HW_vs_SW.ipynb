{
 "cells": [
  {
   "cell_type": "markdown",
   "id": "fc232c57-4db3-409a-999e-3f4c2bb812c1",
   "metadata": {},
   "source": [
    "## AES128 performance demo"
   ]
  },
  {
   "cell_type": "code",
   "execution_count": null,
   "id": "ada93c50-e8b3-4b67-822b-d34a660c9180",
   "metadata": {},
   "outputs": [],
   "source": [
    "import numpy as np\n",
    "from matplotlib import image\n",
    "from matplotlib import pyplot\n",
    "import matplotlib.pyplot as plt\n",
    "np.set_printoptions(formatter={'int':hex})\n",
    "from Crypto.Cipher import AES\n",
    "import binascii\n",
    "from siha import *\n",
    "import pad\n",
    "inputFile = 'data/encryptedSignal.bin'\n",
    "outputHWFile = 'data/origSignalHW.bin'\n",
    "outputSWFile = 'data/origSignalSW.bin'"
   ]
  },
  {
   "cell_type": "markdown",
   "id": "d2896586-080c-40ba-8e65-0f4521ecb3fa",
   "metadata": {},
   "source": [
    "# Initialization"
   ]
  },
  {
   "cell_type": "code",
   "execution_count": null,
   "id": "4984531d-ff19-4e68-abbb-84f41c8a9d6d",
   "metadata": {},
   "outputs": [],
   "source": [
    "BUFFSIZE = 0x4000000\n",
    "databuffOrg = np.fromfile(inputFile, dtype=np.uint8)[:BUFFSIZE]\n",
    "databuff, padcount = pad.addpad(databuffOrg)\n",
    "databuff = np.frombuffer(databuff.tobytes(), dtype=np.uint32)\n",
    "size = databuff.shape[0]\n",
    "\n",
    "encKeybuff = np.array([\n",
    "    0x0c0d0e0f, 0x08090a0b, 0x04050607, 0x00010203,\n",
    "    0x00000001, 0x00000000, 0x00000000, 0x00000000], dtype=np.uint32)\n",
    "\n",
    "decKeybuff = np.array([\n",
    "    0x0c0d0e0f, 0x08090a0b, 0x04050607, 0x00010203,\n",
    "    0x00000000, 0x00000000, 0x00000000, 0x00000000], dtype=np.uint32)\n",
    "\n",
    "tid_conf = 1\n",
    "tid_run = 0\n",
    "offset_key = 0\n",
    "offset_input = 64\n",
    "offset_result = 64\n",
    "size_config = len(encKeybuff)"
   ]
  },
  {
   "cell_type": "markdown",
   "id": "a99c178c-865c-4e2f-a942-cc3800b7ebd1",
   "metadata": {},
   "source": [
    "# AES128 running on PL"
   ]
  },
  {
   "cell_type": "code",
   "execution_count": null,
   "id": "2d97dc84-699a-4391-9b14-cf663032e597",
   "metadata": {},
   "outputs": [],
   "source": [
    "accel = AcapdAccel(\"AES\", 0)\n",
    "accel.loadData(decKeybuff, offset_key)\n",
    "accel.loadData(databuff, offset_input)\n",
    "accel.startAccel()\n",
    "accel.config(offset_key, size_config, tid_conf)\n",
    "accel.run(offset_input, size, tid_run, offset_result)\n",
    "outbuff = accel.retrieve(offset_result, size)\n",
    "outbuff = np.frombuffer(outbuff.tobytes(), dtype=np.uint8)\n",
    "if padcount != 0:\n",
    "    outbuff = outbuff[:-padcount]\n",
    "accel.close()\n",
    "outbuff.tofile(outputHWFile)\n",
    "\n",
    "print(\"AES accel Time taken  : %f sec\" % (accel.getTimeTaken()))\n",
    "print(\"AES In Throughput  : %f gbps\" % (accel.getInThroughput()))\n",
    "print(\"AES Out Throughput  : %f gbps\" % (accel.getOutThroughput()))"
   ]
  },
  {
   "cell_type": "markdown",
   "id": "46a50276-f889-4e18-8786-cc6e9cbc544c",
   "metadata": {},
   "source": [
    "# AES128 running on PS"
   ]
  },
  {
   "cell_type": "code",
   "execution_count": null,
   "id": "7339913d-d934-4238-8312-3af6795f8682",
   "metadata": {},
   "outputs": [],
   "source": [
    "with open(inputFile, \"rb\") as f:\n",
    "    softData = f.read()\n",
    "\n",
    "key = '0f0e0d0c0b0a09080706050403020100'\n",
    "key = binascii.unhexlify(key)\n",
    "encryptor = AES.new(key, AES.MODE_ECB)\n",
    "start = time.time()\n",
    "out = encryptor.decrypt(softData)\n",
    "stop = time.time()\n",
    "inThroughput = 8*len(softData)/(stop - start)/1000000000\n",
    "outThroughput = 8*len(softData)/(stop - start)/1000000000\n",
    "file = open(outputSWFile, \"wb\")\n",
    "file.write(out)\n",
    "file.close()\n",
    "\n",
    "print(\"AES accel Time taken  : %f sec\" % (stop-start))\n",
    "print(\"AES In Throughput  : %f gbps\" % (inThroughput))\n",
    "print(\"AES Out Throughput  : %f gbps\" % (outThroughput))"
   ]
  },
  {
   "cell_type": "code",
   "execution_count": null,
   "id": "676c3ab6-96b6-477d-8edd-f2865dc5f132",
   "metadata": {},
   "outputs": [],
   "source": []
  }
 ],
 "metadata": {
  "kernelspec": {
   "display_name": "Python 3 (ipykernel)",
   "language": "python",
   "name": "python3"
  },
  "language_info": {
   "codemirror_mode": {
    "name": "ipython",
    "version": 3
   },
   "file_extension": ".py",
   "mimetype": "text/x-python",
   "name": "python",
   "nbconvert_exporter": "python",
   "pygments_lexer": "ipython3",
   "version": "3.10.6"
  }
 },
 "nbformat": 4,
 "nbformat_minor": 5
}
